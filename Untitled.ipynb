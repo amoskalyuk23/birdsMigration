{
 "cells": [
  {
   "cell_type": "code",
   "execution_count": 16,
   "metadata": {},
   "outputs": [
    {
     "data": {
      "text/html": [
       "        <script type=\"text/javascript\">\n",
       "        window.PlotlyConfig = {MathJaxConfig: 'local'};\n",
       "        if (window.MathJax) {MathJax.Hub.Config({SVG: {font: \"STIX-Web\"}});}\n",
       "        if (typeof require !== 'undefined') {\n",
       "        require.undef(\"plotly\");\n",
       "        requirejs.config({\n",
       "            paths: {\n",
       "                'plotly': ['https://cdn.plot.ly/plotly-latest.min']\n",
       "            }\n",
       "        });\n",
       "        require(['plotly'], function(Plotly) {\n",
       "            window._Plotly = Plotly;\n",
       "        });\n",
       "        }\n",
       "        </script>\n",
       "        "
      ]
     },
     "metadata": {},
     "output_type": "display_data"
    }
   ],
   "source": [
    "import numpy as np\n",
    "import pandas as pd\n",
    "import matplotlib.pyplot as plt\n",
    "from plotly import tools\n",
    "# import plotly.plotly as py\n",
    "import chart_studio.plotly\n",
    "from plotly.offline import init_notebook_mode, iplot\n",
    "init_notebook_mode(connected=True)\n",
    "import plotly.graph_objs as go\n",
    "import plotly.figure_factory as ff\n",
    "from IPython.display import HTML, Image\n",
    "import plotly.express as px\n",
    "import datetime as dt\n",
    "import math\n",
    "px.set_mapbox_access_token(open(\".mapbox_token\").read())"
   ]
  },
  {
   "cell_type": "code",
   "execution_count": 17,
   "metadata": {},
   "outputs": [],
   "source": [
    "import pandas as pd\n",
    "import datetime as dt\n",
    "birds = pd.read_csv(\"bird_tracking.csv\")"
   ]
  },
  {
   "cell_type": "code",
   "execution_count": 18,
   "metadata": {},
   "outputs": [
    {
     "data": {
      "text/html": [
       "<div>\n",
       "<style scoped>\n",
       "    .dataframe tbody tr th:only-of-type {\n",
       "        vertical-align: middle;\n",
       "    }\n",
       "\n",
       "    .dataframe tbody tr th {\n",
       "        vertical-align: top;\n",
       "    }\n",
       "\n",
       "    .dataframe thead th {\n",
       "        text-align: right;\n",
       "    }\n",
       "</style>\n",
       "<table border=\"1\" class=\"dataframe\">\n",
       "  <thead>\n",
       "    <tr style=\"text-align: right;\">\n",
       "      <th></th>\n",
       "      <th>altitude</th>\n",
       "      <th>date_time</th>\n",
       "      <th>device_info_serial</th>\n",
       "      <th>direction</th>\n",
       "      <th>latitude</th>\n",
       "      <th>longitude</th>\n",
       "      <th>speed_2d</th>\n",
       "      <th>bird_name</th>\n",
       "    </tr>\n",
       "  </thead>\n",
       "  <tbody>\n",
       "    <tr>\n",
       "      <th>0</th>\n",
       "      <td>71</td>\n",
       "      <td>2013-08-15 00:18:08+00</td>\n",
       "      <td>851</td>\n",
       "      <td>-150.469753</td>\n",
       "      <td>49.419859</td>\n",
       "      <td>2.120733</td>\n",
       "      <td>0.150000</td>\n",
       "      <td>Eric</td>\n",
       "    </tr>\n",
       "    <tr>\n",
       "      <th>1</th>\n",
       "      <td>68</td>\n",
       "      <td>2013-08-15 00:48:07+00</td>\n",
       "      <td>851</td>\n",
       "      <td>-136.151141</td>\n",
       "      <td>49.419880</td>\n",
       "      <td>2.120746</td>\n",
       "      <td>2.438360</td>\n",
       "      <td>Eric</td>\n",
       "    </tr>\n",
       "    <tr>\n",
       "      <th>2</th>\n",
       "      <td>68</td>\n",
       "      <td>2013-08-15 01:17:58+00</td>\n",
       "      <td>851</td>\n",
       "      <td>160.797477</td>\n",
       "      <td>49.420310</td>\n",
       "      <td>2.120885</td>\n",
       "      <td>0.596657</td>\n",
       "      <td>Eric</td>\n",
       "    </tr>\n",
       "  </tbody>\n",
       "</table>\n",
       "</div>"
      ],
      "text/plain": [
       "   altitude               date_time  device_info_serial   direction  \\\n",
       "0        71  2013-08-15 00:18:08+00                 851 -150.469753   \n",
       "1        68  2013-08-15 00:48:07+00                 851 -136.151141   \n",
       "2        68  2013-08-15 01:17:58+00                 851  160.797477   \n",
       "\n",
       "    latitude  longitude  speed_2d bird_name  \n",
       "0  49.419859   2.120733  0.150000      Eric  \n",
       "1  49.419880   2.120746  2.438360      Eric  \n",
       "2  49.420310   2.120885  0.596657      Eric  "
      ]
     },
     "execution_count": 18,
     "metadata": {},
     "output_type": "execute_result"
    }
   ],
   "source": [
    "birds.head(3)"
   ]
  },
  {
   "cell_type": "code",
   "execution_count": 19,
   "metadata": {},
   "outputs": [],
   "source": [
    "birds['month'] = pd.to_datetime(birds['date_time']).dt.month\n",
    "birds['year'] = pd.to_datetime(birds['date_time']).dt.year"
   ]
  },
  {
   "cell_type": "code",
   "execution_count": 20,
   "metadata": {},
   "outputs": [],
   "source": [
    "birds['time'] = pd.to_datetime(birds['date_time']).dt.time\n",
    "night = dt.time(5)\n",
    "day = dt.time(18)\n",
    "birds['day_or_night'] = birds['time'].apply(lambda x: 'day' if (x >night and x <day) else 'night')"
   ]
  },
  {
   "cell_type": "code",
   "execution_count": 21,
   "metadata": {},
   "outputs": [],
   "source": [
    "latitude = birds['latitude'].apply(lambda x:float(x))\n",
    "longitude = birds['longitude'].apply(lambda x:float(x))\n",
    "list_locs = []\n",
    "for i in range(len(latitude)-1):\n",
    "    list_locs.append(math.acos(np.sin(latitude[i])\n",
    "              *np.sin(latitude[i+1])\n",
    "              +np.cos(latitude[i])\n",
    "              *np.cos(latitude[i+1])\n",
    "              *np.cos(longitude[i+1]-longitude[i]))*6371)"
   ]
  },
  {
   "cell_type": "code",
   "execution_count": 42,
   "metadata": {},
   "outputs": [],
   "source": [
    "night_birds = birds[birds['day_or_night'] == 'night']\n",
    "day_birds = birds[birds['day_or_night'] == 'day']"
   ]
  },
  {
   "cell_type": "code",
   "execution_count": 43,
   "metadata": {},
   "outputs": [
    {
     "data": {
      "text/plain": [
       "[2.5832561567601409, 3.144957107154096, 2.583896916134635]"
      ]
     },
     "execution_count": 43,
     "metadata": {},
     "output_type": "execute_result"
    }
   ],
   "source": [
    "eric_day = day_birds[day_birds['bird_name']=='Eric']\n",
    "nico_day = day_birds[day_birds['bird_name']=='Nico']\n",
    "sanne_day = day_birds[day_birds['bird_name']=='Sanne']\n",
    "day_vals = [eric_day['speed_2d'].mean(),nico_day['speed_2d'].mean(),sanne_day['speed_2d'].mean()]\n",
    "day_vals"
   ]
  },
  {
   "cell_type": "code",
   "execution_count": 49,
   "metadata": {},
   "outputs": [
    {
     "data": {
      "text/plain": [
       "[1.8501624892826178, 2.5274710228779305, 2.2329717406370833]"
      ]
     },
     "execution_count": 49,
     "metadata": {},
     "output_type": "execute_result"
    }
   ],
   "source": [
    "eric_night = night_birds[night_birds['bird_name']=='Eric']\n",
    "nico_night = night_birds[night_birds['bird_name']=='Nico']\n",
    "sanne_night = night_birds[night_birds['bird_name']=='Sanne']\n",
    "night_vals = [eric_night['speed_2d'].mean(),nico_night['speed_2d'].mean(),sanne_night['speed_2d'].mean()]\n",
    "night_vals"
   ]
  },
  {
   "cell_type": "code",
   "execution_count": 57,
   "metadata": {},
   "outputs": [
    {
     "data": {
      "text/plain": [
       "[2.3005445907278395, 2.9087263541396475, 2.4504341163584811]"
      ]
     },
     "execution_count": 57,
     "metadata": {},
     "output_type": "execute_result"
    }
   ],
   "source": [
    "eric = birds[birds['bird_name']=='Eric']\n",
    "nico = birds[birds['bird_name']=='Nico']\n",
    "sanne = birds[birds['bird_name']=='Sanne']\n",
    "vals = [eric['speed_2d'].mean(),nico['speed_2d'].mean(),sanne['speed_2d'].mean()]\n",
    "vals"
   ]
  },
  {
   "cell_type": "code",
   "execution_count": 26,
   "metadata": {},
   "outputs": [
    {
     "data": {
      "image/png": "[encoded data removed]",
      "text/plain": [
       "<matplotlib.figure.Figure at 0x7f3896c7ddd8>"
      ]
     },
     "metadata": {},
     "output_type": "display_data"
    }
   ],
   "source": [
    "width = .25\n",
    "N = 3\n",
    "b = np.arange(N)\n",
    "bar1 = plt.bar(b, day_vals, width, color = 'g')\n",
    "bar2 = plt.bar(b+width, night_vals, width, color = 'b')\n",
    "bar3 = plt.bar(b+width*2, vals, width, color = 'r')\n",
    "plt.legend( (bar1, bar2, bar3), ('Eric', 'Nico', 'Sanne'))\n",
    "plt.xticks(b+width,['Day Averages', 'Night Averages', 'Overall Averages'])\n",
    "plt.ylabel(\"Average speed\")\n",
    "plt.show()"
   ]
  },
  {
   "cell_type": "code",
   "execution_count": 27,
   "metadata": {
    "scrolled": false
   },
   "outputs": [
    {
     "data": {
      "text/html": [
       "<div>\n",
       "<style scoped>\n",
       "    .dataframe tbody tr th:only-of-type {\n",
       "        vertical-align: middle;\n",
       "    }\n",
       "\n",
       "    .dataframe tbody tr th {\n",
       "        vertical-align: top;\n",
       "    }\n",
       "\n",
       "    .dataframe thead th {\n",
       "        text-align: right;\n",
       "    }\n",
       "</style>\n",
       "<table border=\"1\" class=\"dataframe\">\n",
       "  <thead>\n",
       "    <tr style=\"text-align: right;\">\n",
       "      <th></th>\n",
       "      <th>altitude</th>\n",
       "      <th>date_time</th>\n",
       "      <th>device_info_serial</th>\n",
       "      <th>direction</th>\n",
       "      <th>latitude</th>\n",
       "      <th>longitude</th>\n",
       "      <th>speed_2d</th>\n",
       "      <th>bird_name</th>\n",
       "      <th>month</th>\n",
       "      <th>year</th>\n",
       "      <th>time</th>\n",
       "      <th>day_or_night</th>\n",
       "      <th>distance</th>\n",
       "    </tr>\n",
       "  </thead>\n",
       "  <tbody>\n",
       "    <tr>\n",
       "      <th>0</th>\n",
       "      <td>71</td>\n",
       "      <td>2013-08-15 00:18:08+00</td>\n",
       "      <td>851</td>\n",
       "      <td>-150.469753</td>\n",
       "      <td>49.419859</td>\n",
       "      <td>2.120733</td>\n",
       "      <td>0.150000</td>\n",
       "      <td>Eric</td>\n",
       "      <td>8</td>\n",
       "      <td>2013</td>\n",
       "      <td>00:18:08</td>\n",
       "      <td>night</td>\n",
       "      <td>0.140774</td>\n",
       "    </tr>\n",
       "    <tr>\n",
       "      <th>1</th>\n",
       "      <td>68</td>\n",
       "      <td>2013-08-15 00:48:07+00</td>\n",
       "      <td>851</td>\n",
       "      <td>-136.151141</td>\n",
       "      <td>49.419880</td>\n",
       "      <td>2.120746</td>\n",
       "      <td>2.438360</td>\n",
       "      <td>Eric</td>\n",
       "      <td>8</td>\n",
       "      <td>2013</td>\n",
       "      <td>00:48:07</td>\n",
       "      <td>night</td>\n",
       "      <td>2.805295</td>\n",
       "    </tr>\n",
       "    <tr>\n",
       "      <th>2</th>\n",
       "      <td>68</td>\n",
       "      <td>2013-08-15 01:17:58+00</td>\n",
       "      <td>851</td>\n",
       "      <td>160.797477</td>\n",
       "      <td>49.420310</td>\n",
       "      <td>2.120885</td>\n",
       "      <td>0.596657</td>\n",
       "      <td>Eric</td>\n",
       "      <td>8</td>\n",
       "      <td>2013</td>\n",
       "      <td>01:17:58</td>\n",
       "      <td>night</td>\n",
       "      <td>0.325139</td>\n",
       "    </tr>\n",
       "  </tbody>\n",
       "</table>\n",
       "</div>"
      ],
      "text/plain": [
       "   altitude               date_time  device_info_serial   direction  \\\n",
       "0        71  2013-08-15 00:18:08+00                 851 -150.469753   \n",
       "1        68  2013-08-15 00:48:07+00                 851 -136.151141   \n",
       "2        68  2013-08-15 01:17:58+00                 851  160.797477   \n",
       "\n",
       "    latitude  longitude  speed_2d bird_name  month  year      time  \\\n",
       "0  49.419859   2.120733  0.150000      Eric      8  2013  00:18:08   \n",
       "1  49.419880   2.120746  2.438360      Eric      8  2013  00:48:07   \n",
       "2  49.420310   2.120885  0.596657      Eric      8  2013  01:17:58   \n",
       "\n",
       "  day_or_night  distance  \n",
       "0        night  0.140774  \n",
       "1        night  2.805295  \n",
       "2        night  0.325139  "
      ]
     },
     "execution_count": 27,
     "metadata": {},
     "output_type": "execute_result"
    }
   ],
   "source": [
    "list_locs.append(float('0'))\n",
    "birds['distance'] = list_locs\n",
    "birds.head(3)"
   ]
  },
  {
   "cell_type": "code",
   "execution_count": 38,
   "metadata": {},
   "outputs": [],
   "source": [
    "eric = birds[birds['bird_name'] == 'Eric']\n",
    "nico = birds[birds['bird_name']=='Nico']\n",
    "sanne = birds[birds['bird_name']=='Sanne']"
   ]
  },
  {
   "cell_type": "code",
   "execution_count": 58,
   "metadata": {},
   "outputs": [],
   "source": [
    "day_travel = [eric_day['distance'].sum(),nico_day['distance'].sum(),sanne_day['distance'].sum()]\n",
    "night_travel = [eric_night['distance'].sum(),nico_night['distance'].sum(),sanne_night['distance'].sum()]\n",
    "total_travel = [eric['distance'].sum(),nico['distance'].sum(),sanne['distance'].sum()]"
   ]
  },
  {
   "cell_type": "code",
   "execution_count": 61,
   "metadata": {},
   "outputs": [
    {
     "data": {
      "image/png": "[encoded data removed]",
      "text/plain": [
       "<matplotlib.figure.Figure at 0x7f38960556a0>"
      ]
     },
     "metadata": {},
     "output_type": "display_data"
    }
   ],
   "source": [
    "width = .25\n",
    "N = 3\n",
    "b = np.arange(N)\n",
    "dDistance = plt.bar(b, day_travel, width, color = 'g')\n",
    "nDistance = plt.bar(b+width, night_travel, width, color = 'b')\n",
    "tDistance = plt.bar(b+width*2, total_travel, width, color = 'r')\n",
    "plt.legend((dDistance, nDistance, tDistance), ('Eric', 'Nico', 'Sanne'))\n",
    "plt.show()"
   ]
  },
  {
   "cell_type": "markdown",
   "metadata": {},
   "source": [
    "Findings\n",
    "\n",
    "Eric: Eric appears to be on average the fastest travelling bird amongst the three birds in this dataset\n",
    "\n",
    "Nico: Nico has traveled the least and the slowest amongst the three birds\n",
    "\n",
    "Sanne: Sanne appears to have traveled the most distance amongst the three birds"
   ]
  }
 ],
 "metadata": {
  "kernelspec": {
   "display_name": "Python 3",
   "language": "python",
   "name": "python3"
  },
  "language_info": {
   "codemirror_mode": {
    "name": "ipython",
    "version": 3
   },
   "file_extension": ".py",
   "mimetype": "text/x-python",
   "name": "python",
   "nbconvert_exporter": "python",
   "pygments_lexer": "ipython3",
   "version": "3.4.3"
  }
 },
 "nbformat": 4,
 "nbformat_minor": 2
}
